{
  "cells": [
    {
      "cell_type": "markdown",
      "metadata": {
        "id": "view-in-github",
        "colab_type": "text"
      },
      "source": [
        "<a href=\"https://colab.research.google.com/github/santiagoml2/py_fundamentals/blob/main/PYPLVL2_PYLVL2EFLS_E7_P10.ipynb\" target=\"_parent\"><img src=\"https://colab.research.google.com/assets/colab-badge.svg\" alt=\"Open In Colab\"/></a>"
      ]
    },
    {
      "cell_type": "markdown",
      "metadata": {
        "id": "f95p817qByaC"
      },
      "source": [
        "<p><img src=\"https://upload.wikimedia.org/wikipedia/commons/thumb/1/13/SoftServe_logo_2017.svg/179px-SoftServe_logo_2017.svg.png?20220507181101\" alt=\"\" width=\"363\" height=\"63\" /></p>\n",
        "\n",
        "----\n",
        "\n",
        "### **INFORMACIÓN TÉCNICA**\n",
        "* **ID:** PYPLVL2_PYLVL2EFLS_E7_P10\n",
        "* **Python Versión:** 3.x\n",
        "* **Versión:** 0.0.1\n",
        "---\n",
        "### **INTRODUCCIÓN**\n",
        "\n",
        "Python proporciona una manera sencilla y potente de gestionar las operaciones de archivos. Con funciones y módulos incorporados, puedes realizar tareas como leer desde archivos, escribir en archivos y manipular el contenido de los mismos. A continuación, una breve introducción sobre cómo Python gestiona las operaciones de archivos:\n",
        "\n",
        "### **QUE SE APRENDERÁ**\n",
        "  - Abrir un archivo:<br/>\n",
        "    Para trabajar con un archivo, primero debes abrirlo usando la función incorporada `open()`. Esta función toma dos argumentos: el nombre del archivo (incluyendo la ruta si no se encuentra en el directorio actual) y el modo en el que deseas abrir el archivo (lectura, escritura, agregar, etc.).\n",
        "\n",
        "    Por ejemplo, para abrir un archivo en modo lectura:\n",
        "    ```python\n",
        "    archivo = open(\"ejemplo.txt\", \"r\")\n",
        "\n",
        "    ```\n",
        "\n",
        "    Es importante cerrar el archivo una vez que hayas terminado de trabajar con él para liberar los recursos del sistema. Puedes utilizar el método `close()` para ello:\n",
        "    ```python\n",
        "    archivo.close()\n",
        "\n",
        "    ```\n",
        "\n",
        "  - Leer desde un archivo:<br/>\n",
        "    Una vez que el archivo está abierto en modo lectura, puedes utilizar varios métodos para leer su contenido. Los métodos más comunes son `read()`, `readline()` y `readlines()`.\n",
        "    - `read()` lee todo el contenido del archivo como una sola cadena:\n",
        "      ```python\n",
        "      archivo = open(\"ejemplo.txt\", \"r\")\n",
        "      contenido = archivo.read()\n",
        "      archivo.close()\n",
        "\n",
        "      ```\n",
        "\n",
        "    - `readline()` lee una sola línea del archivo:\n",
        "      ```python\n",
        "      archivo = open(\"ejemplo.txt\", \"r\")\n",
        "      linea = archivo.readline()\n",
        "      archivo.close()\n",
        "\n",
        "      ```\n",
        "\n",
        "    - `readlines()` lee todas las líneas del archivo y las devuelve como una lista de cadenas:\n",
        "      ```python\n",
        "      archivo = open(\"ejemplo.txt\", \"r\")\n",
        "      lineas = archivo.readlines()\n",
        "      archivo.close()\n",
        "\n",
        "      ```\n",
        "\n",
        "  - Escribir en un archivo:<br/>\n",
        "    Para escribir datos en un archivo, ábrelo en modo escritura (`\"w\"`) o en modo agregar (`\"a\"`). Utiliza el método `write()` para escribir una cadena en el archivo y `writelines()` para escribir una lista de cadenas.\n",
        "\n",
        "    - Escribir una sola línea en un archivo:\n",
        "      ```python\n",
        "      archivo = open(\"ejemplo.txt\", \"w\")\n",
        "      archivo.write(\"Esta es una nueva línea.\")\n",
        "      archivo.close()\n",
        "\n",
        "      ```\n",
        "\n",
        "    - Escribir varias líneas en un archivo:\n",
        "      ```python\n",
        "      lineas = [\"Línea 1\\n\", \"Línea 2\\n\", \"Línea 3\\n\"]\n",
        "      archivo = open(\"ejemplo.txt\", \"w\")\n",
        "      archivo.writelines(lineas)\n",
        "      archivo.close()\n",
        "\n",
        "      ```\n",
        "\n",
        "  - Gestor de Contexto de Archivos (sentencia `\"with\"`):<br/>\n",
        "    Python proporciona una forma más conveniente de manejar las operaciones de archivos utilizando la sentencia **\"with\"**. Cuando usas la sentencia **\"with\"**, Python cerrará automáticamente el archivo por ti después de que el bloque de código dentro de la sentencia **\"with\"** se haya ejecutado, incluso si ocurre una excepción.\n",
        "\n",
        "    Por ejemplo, leer desde un archivo utilizando un gestor de contexto:\n",
        "    ```python\n",
        "    with open(\"ejemplo.txt\", \"r\") as archivo:\n",
        "        contenido = archivo.read()\n",
        "\n",
        "    # El archivo se cerrará automáticamente después del bloque.\n",
        "\n",
        "    ```\n",
        "\n",
        "    Esta es una forma más segura y limpia de manejar archivos, especialmente cuando se trata de excepciones.\n",
        "\n",
        "    Recuerda que es importante manejar adecuadamente los errores al trabajar con archivos. Asegúrate siempre de cerrar el archivo una vez que hayas terminado de usarlo para evitar fugas de recursos, o utiliza la sentencia \"with\" para manejar las operaciones de archivos.\n",
        "\n",
        "\n",
        "# **EJERCICIOS**"
      ]
    },
    {
      "cell_type": "markdown",
      "metadata": {
        "id": "I1kgAOsTKqlx"
      },
      "source": [
        "<p>\n",
        "    <img src=\"https://cdn.icon-icons.com/icons2/1130/PNG/512/numberzeroinacircle_80181.png\" alt=\"01\" width=\"65\" height=\"65\" />\n",
        "    <img src=\"https://cdn.icon-icons.com/icons2/1130/PNG/512/numberoneinacircle_80030.png\" alt=\"01\" width=\"65\" height=\"65\" />\n",
        "</p>\n",
        "\n",
        "\n",
        "* **ID:** PYLVL2EFLS-01\n",
        "* **DESCRIPCIÓN:** Manejo de archivos simples\n",
        "\n",
        "    Escribir dentro del cuerpo de la función ``function`` la lógica que permita leer el contenido de un archivo de texto llamado \"PYLVL2EFLS-01.txt\" con el comando ``readlines()``. Usted deberá imprimir y retornar el contenido del archivo como string.\n",
        "\n",
        "**Reglas:**\n",
        "  1. Debe usar el comando with para leer el archivo.\n",
        "  2. No modifique la declaración de la función.\n",
        "  3. No modifique el contenido del archivo.\n",
        "  4. Si no sigue alguna de estas reglas, el ejercicio será marcado como erróneo.\n",
        "\n",
        "  \\\n",
        "  **Respuesta Esperada**\n",
        "\n",
        "  ```python\n",
        "  # Se espera el contenido del archivo \"PYLVL2EFLS-01.txt\" como una varaiable string, recuerde que debe leer cada linea del archivo para incluirla en la variable a retornar.\n",
        "  # No enviar el archivo nuevamente\n",
        "  return contenido_str\n",
        "  ```\n"
      ]
    },
    {
      "cell_type": "code",
      "execution_count": null,
      "metadata": {
        "id": "jOzwBt84U4Pr"
      },
      "outputs": [],
      "source": [
        "def function(path):\n",
        "  \"\"\"Escriba su codigo aqui...\"\"\"\n",
        "  with open(path,'r') as document:\n",
        "    contenido_str = ''.join(document.readlines())\n",
        "    print(contenido_str)\n",
        "\n",
        "  return contenido_str\n"
      ]
    },
    {
      "cell_type": "markdown",
      "metadata": {
        "id": "kiToUnqMNmJc"
      },
      "source": [
        "<p>\n",
        "    <img src=\"https://cdn.icon-icons.com/icons2/1130/PNG/512/numberzeroinacircle_80181.png\" alt=\"02\" width=\"65\" height=\"65\" />\n",
        "    <img src=\"https://cdn.icon-icons.com/icons2/1130/PNG/512/numbertwoinacircle_80299.png\" alt=\"02\" width=\"65\" height=\"65\" />\n",
        "</p>\n",
        "\n",
        "* **ID:** PYLVL2EFLS-02\n",
        "* **DESCRIPCIÓN:** Manejo de archivos\n",
        "\n",
        "    Escribir dentro del cuerpo de la función ``function`` la lógica que permita realizar un conteo de las lineas del archivo de texto \"PYLVL2EFLS-01.txt\".<br/>\n",
        "    Usted debe imprimir y retornar el conteo de líneas.\n",
        "\n",
        "\\\n",
        "**Reglas:**\n",
        "1. Debe usar el comando with para leer el archivo.\n",
        "2. No modifique la declaración o la invocación de la función.\n",
        "3. No modifique el contenido del archivo.\n",
        "4. Si no sigue alguna de estas reglas, el ejercicio será marcado como erróneo.\n",
        "\n",
        "\\\n",
        "**Respuesta Esperada:**\n",
        "```python\n",
        "# No enviar nuevamente el archivo de texto, se evalúa la lógica que implemente.\n",
        "return conteo_lineas\n",
        "```\n"
      ]
    },
    {
      "cell_type": "code",
      "execution_count": null,
      "metadata": {
        "id": "PP9Ioa9TQ8dy"
      },
      "outputs": [],
      "source": [
        "def function(path):\n",
        "  \"\"\"Escriba su codigo aqui...\"\"\"\n",
        "  with open(path, 'r') as file:\n",
        "    contenido = file.readlines()\n",
        "    conteo_lineas = len(contenido)\n",
        "\n",
        "    for elemento in contenido:\n",
        "      print(elemento)\n",
        "\n",
        "\n",
        "\n",
        "  return conteo_lineas"
      ]
    },
    {
      "cell_type": "markdown",
      "metadata": {
        "id": "N5EqgFikQH46"
      },
      "source": [
        "<p>\n",
        "    <img src=\"https://cdn.icon-icons.com/icons2/1130/PNG/512/numberzeroinacircle_80181.png\" alt=\"03\" width=\"65\" height=\"65\" />\n",
        "    <img src=\"https://cdn.icon-icons.com/icons2/1130/PNG/512/numberthreeinacircle_80289.png\" alt=\"03\" width=\"65\" height=\"65\" />\n",
        "</p>\n",
        "\n",
        "\n",
        "* **ID:** PYLVL2EFLS-03\n",
        "* **DESCRIPCIÓN:** Manejo de archivos simples\n",
        "\n",
        "    Escribir dentro del cuerpo de la función ``function`` la lógica que permita escribir los números enteros del 1 al 10 (un número por línea) usando la función ``write(...)``. <br/>\n",
        "    La lógica que programe debe guardar sus resultados en un archivo con el nombre \"PYLVL2EFLS-03.txt\". <br/>\n",
        "    Retorne el path del archivo.\n",
        "\n",
        "\\\n",
        "**Reglas:**\n",
        "1. Debe usar el comando with para leer y/o escribir el archivo.\n",
        "2. No modifique la declaración, la invocación de la función, o las librerías importadas.\n",
        "3. No modifique la declaración de la variable path.\n",
        "4. No modifique o elimine la librería importada.\n",
        "5. No modifique la declaración de la función.\n",
        "6. Si no sigue alguna de estas reglas, el ejercicio será marcado como erróneo.\n",
        "\n",
        "\\\n",
        "**Respuesta Esperada:**\n",
        "\n",
        "```python\n",
        "# No enviar el archivo de texto resultante, se evalúa la lógica que implemente.\n",
        "return path\n",
        "```\n"
      ]
    },
    {
      "cell_type": "code",
      "execution_count": 3,
      "metadata": {
        "id": "wenUGkHINCyq"
      },
      "outputs": [],
      "source": [
        "def function(path):\n",
        "  \"\"\"Escriba su codigo aqui...\"\"\"\n",
        "\n",
        "  with open(path, 'w') as file:\n",
        "    for number in range(1,11):\n",
        "      file.write(str(number) + '\\n')\n",
        "      path = file.__file__\n",
        "\n",
        "  return path\n"
      ]
    },
    {
      "cell_type": "markdown",
      "metadata": {
        "id": "x12-l0Y-U4Pt"
      },
      "source": [
        "<p>\n",
        "    <img src=\"https://cdn.icon-icons.com/icons2/1130/PNG/512/numberzeroinacircle_80181.png\" alt=\"05\" width=\"65\" height=\"65\" />\n",
        "    <img src=\"https://cdn.icon-icons.com/icons2/1130/PNG/512/numberfourincircularbutton_80047.png\" alt=\"04\" width=\"65\" height=\"65\" />\n",
        "</p>\n",
        "\n",
        "\n",
        "* **ID:** PYLVL2EFLS-04\n",
        "* **DESCRIPCIÓN:** Manejo de archivos simples\n",
        "\n",
        "    Escribir dentro del cuerpo de la función ``function`` la lógica que permita leer la primera línea del archivo modificado \"PYLVL2EFLS-04.txt\" usado en el ejercicio anterior.<br/>\n",
        "    Imprimir y retornar la primera línea.\n",
        "\n",
        "\\\n",
        "**Reglas:**\n",
        "1. Debe usar el comando with para leer y/o escribir el archivo.\n",
        "2. No modifique la declaración, la invocación de la función, o la librería importada.\n",
        "3. No modifique o elimine la librería importada.\n",
        "4. No modifique la declaración de la función.\n",
        "5. Si no sigue alguna de estas reglas, el ejercicio será marcado como erróneo.\n",
        "6. No modifique el contenido del archivo.\n",
        "\n",
        "\\\n",
        "**Respuesta Esperada:** <br>\n",
        "```python\n",
        "# No enviar el archivo de texto resultante, se evalúa la lógica que implemente.\n",
        "return primera_linea\n",
        "```"
      ]
    },
    {
      "cell_type": "code",
      "execution_count": null,
      "metadata": {
        "id": "rQOgqbWFU4Pt"
      },
      "outputs": [],
      "source": [
        "def function(path):\n",
        "  \"\"\"Escriba su codigo aqui...\"\"\"\n",
        "  with open(path, 'r') as file:\n",
        "    content = file.readlines()\n",
        "    primera_linea = content[0]\n",
        "    print(primera_linea)\n",
        "\n",
        "  return primera_linea"
      ]
    },
    {
      "cell_type": "markdown",
      "metadata": {
        "id": "goOY6DGRU4Pt"
      },
      "source": [
        "<p>\n",
        "    <img src=\"https://cdn.icon-icons.com/icons2/1130/PNG/512/numberzeroinacircle_80181.png\" alt=\"06\" width=\"65\" height=\"65\" />\n",
        "    <img src=\"https://cdn.icon-icons.com/icons2/1130/PNG/512/numberfiveincircularbutton_80245.png\" alt=\"05\" width=\"65\" height=\"65\" />\n",
        "</p>\n",
        "\n",
        "\n",
        "* **ID:** PYLVL2EFLS-05\n",
        "* **DESCRIPCIÓN:** Manejo de archivos simples\n",
        "\n",
        "    Escribir dentro del cuerpo de la función ``function`` la lógica que permita leer TODAS las líneas del archivo modificado \"PYLVL2EFLS-04.txt\" con el metodo ``readlines()``.<br/>\n",
        "    Imprimir y retornar la TERCERA línea del archivo.\n",
        "\n",
        "\\\n",
        "**Reglas:**\n",
        "1. Debe usar el comando with.\n",
        "2. No modifique la declaración, la invocación de la función, o la librería importada.\n",
        "3. No modifique o elimine la librería importada.\n",
        "4. No modifique la declaración de la función.\n",
        "5. Si no sigue alguna de estas reglas, el ejercicio será marcado como erróneo.\n",
        "6. No modifique el contenido del archivo.\n",
        "\n",
        "\\\n",
        "**Respuesta Esperada:** <br>\n",
        "```python\n",
        "# No enviar el archivo de texto resultante, se evalúa la lógica que implemente.\n",
        "return tercera_linea\n",
        "```"
      ]
    },
    {
      "cell_type": "code",
      "execution_count": null,
      "metadata": {
        "id": "BZ1xuho7U4Pt"
      },
      "outputs": [],
      "source": [
        "def function(path):\n",
        "  \"\"\"Escriba su codigo aqui...\"\"\"\n",
        "\n",
        "  with open(path, \"r\") as file:\n",
        "    content = file.readlines()\n",
        "    tercera_linea = content[2]\n",
        "    print(tercera_linea)\n",
        "\n",
        "\n",
        "  return tercera_linea\n"
      ]
    },
    {
      "cell_type": "markdown",
      "metadata": {
        "id": "w6jFFM4qU4Pt"
      },
      "source": [
        "<p>\n",
        "    <img src=\"https://cdn.icon-icons.com/icons2/1130/PNG/512/numberzeroinacircle_80181.png\" alt=\"07\" width=\"65\" height=\"65\" />\n",
        "    <img src=\"https://cdn.icon-icons.com/icons2/1130/PNG/512/numbersixinacircle_80203.png\" alt=\"06\" width=\"65\" height=\"65\" />\n",
        "</p>\n",
        "\n",
        "\n",
        "* **ID:** PYLVL2EFLS-06\n",
        "* **DESCRIPCIÓN:** Manejo de archivos simples\n",
        "\n",
        "     Escribir dentro del cuerpo de la función ``function`` la lógica que permita encontrar la palabra más larga (con más caracteres del texto) en el archivo \"PYLVL2EFLS-06.txt\".<br/>\n",
        "     Imprimir y retornar la palabra más larga.\n",
        "\n",
        "\\\n",
        "**Reglas:**\n",
        "1. Debe usar el comando with.\n",
        "2. No modifique la declaración, la invocación de la función, o la librería importada.\n",
        "3. No modifique o elimine la librería importada.\n",
        "4. No modifique la declaración de la función.\n",
        "5. Si no sigue alguna de estas reglas, el ejercicio será marcado como erróneo.\n",
        "6. No modifique el contenido del archivo.\n",
        "\n",
        "\\\n",
        "**Respuesta Esperada:** <br>\n",
        "```python\n",
        "# Retorne la palabra más larga (con más caracteres del texto)\n",
        "# No enviar el archivo de texto resultante, se evalúa la lógica que implemente.\n",
        "return palabra_mas_larga\n",
        "```\n"
      ]
    },
    {
      "cell_type": "code",
      "execution_count": null,
      "metadata": {
        "id": "8hhGT-IZU4Pt"
      },
      "outputs": [],
      "source": [
        "def function(path):\n",
        "  \"\"\"Escriba su codigo aqui...\"\"\"\n",
        "  with open(path, 'r') as file:\n",
        "    content = file.read()\n",
        "\n",
        "    words = content.split()\n",
        "\n",
        "    palabra_mas_larga = max(words, key=len)\n",
        "\n",
        "    print(palabra_mas_larga)\n",
        "\n",
        "  return palabra_mas_larga"
      ]
    },
    {
      "cell_type": "markdown",
      "metadata": {
        "id": "reN8bhGdU4Pt"
      },
      "source": [
        "<p>\n",
        "    <img src=\"https://cdn.icon-icons.com/icons2/1130/PNG/512/numberzeroinacircle_80181.png\" alt=\"08\" width=\"65\" height=\"65\" />\n",
        "    <img src=\"https://cdn.icon-icons.com/icons2/1130/PNG/512/numberseveninacircle_80279.png\" alt=\"07\" width=\"65\" height=\"65\" />\n",
        "</p>\n",
        "\n",
        "\n",
        "* **ID:** PYLVL2EFLS-07\n",
        "* **DESCRIPCIÓN:** Manejo de archivos simples\n",
        "\n",
        "    Escribir dentro del cuerpo de la función ``function`` la lógica que elimine la primera línea del archivo \"PYLVL2EFLS-07.txt\".<br/>\n",
        "    Imprimir el texto del archivo sin la primera línea.\n",
        "    Retornar el path del archivo sin la primera linea.\n",
        "\n",
        "\\\n",
        "**Reglas:**\n",
        "1. Debe usar el comando with.\n",
        "2. No modifique la declaración, la invocación de la función, o la librería importada.\n",
        "3. No modifique o elimine la librería importada.\n",
        "4. No modifique la declaración de la función.\n",
        "5. Si no sigue alguna de estas reglas, el ejercicio será marcado como erróneo.\n",
        "\n",
        "\\\n",
        "**Respuesta Esperada:** <br>\n",
        "```python\n",
        "# Retornar la lectura del archivo de texto sin la primera línea del mismo.\n",
        "# No enviar el archivo de texto resultante, se evalúa la lógica que implemente.\n",
        "print texto_sin_primera_linea\n",
        "return path\n",
        "```\n"
      ]
    },
    {
      "cell_type": "code",
      "execution_count": null,
      "metadata": {
        "id": "v-MDkwvfU4Pt"
      },
      "outputs": [],
      "source": [
        "def function(path):\n",
        "  \"\"\"Escriba su codigo aqui...\"\"\"\n",
        "\n",
        "  with open(path, 'r') as file:\n",
        "    lines = file.readlines()\n",
        "    lines = lines[1:]\n",
        "    edit_text = ''.join(lines)\n",
        "    print(edit_text)\n",
        "\n",
        "    with open(path, 'w') as file:\n",
        "      file.write(edit_text)\n",
        "\n",
        "  return path"
      ]
    }
  ],
  "metadata": {
    "colab": {
      "provenance": [],
      "include_colab_link": true
    },
    "kernelspec": {
      "display_name": "Python 3",
      "name": "python3"
    },
    "language_info": {
      "codemirror_mode": {
        "name": "ipython",
        "version": 3
      },
      "file_extension": ".py",
      "mimetype": "text/x-python",
      "name": "python",
      "nbconvert_exporter": "python",
      "pygments_lexer": "ipython3",
      "version": "3.11.3"
    }
  },
  "nbformat": 4,
  "nbformat_minor": 0
}