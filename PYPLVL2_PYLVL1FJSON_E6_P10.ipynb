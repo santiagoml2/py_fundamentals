{
  "cells": [
    {
      "cell_type": "markdown",
      "metadata": {
        "id": "f95p817qByaC"
      },
      "source": [
        "<p><img src=\"https://upload.wikimedia.org/wikipedia/commons/thumb/1/13/SoftServe_logo_2017.svg/179px-SoftServe_logo_2017.svg.png?20220507181101\" alt=\"\" width=\"363\" height=\"63\" /></p>\n",
        "\n",
        "----\n",
        "\n",
        "### **INFORMACIÓN TECNICA**\n",
        "* **ID:** PYPLVL2_PYLVL1FJSON_E6_P10\n",
        "* **Python Versión:** 3.x\n",
        "* **Versión:** 0.0.1\n",
        "---\n",
        "### **INTRODUCCIÓN**\n",
        "\n",
        "La librería `json` en Python proporciona funcionalidades para trabajar con datos JSON (JavaScript Object Notation). JSON es un formato de intercambio de datos ligero que es fácil de leer y escribir para los humanos, y fácil de analizar y generar para las máquinas. Se utiliza comúnmente para la serialización de datos y la comunicación entre diferentes sistemas.\n",
        "\n",
        "JSON se utiliza ampliamente en el desarrollo web, las API y el intercambio de datos entre aplicaciones debido a su simplicidad y legibilidad humana. La biblioteca json en Python facilita trabajar con datos JSON, permitiéndote convertir fácilmente entre JSON y estructuras de datos de Python.\n",
        "\n",
        "### **QUE SE APRENDERA**\n",
        "\n",
        "  - Importar el módulo `json`:<br/>\n",
        "    Para usar la librería `json`, primero debes importarla:\n",
        "    ```python\n",
        "    import json\n",
        "\n",
        "    ```\n",
        "\n",
        "  - Convertir JSON a Objetos de Python:<br/>\n",
        "    La biblioteca json proporciona la función `loads()` para analizar datos JSON en objetos de Python. Toma una cadena formateada en JSON como entrada y devuelve una estructura de datos de Python correspondiente:\n",
        "    ```python\n",
        "    cadena_json = '{\"nombre\": \"Juan\", \"edad\": 30, \"es_estudiante\": false}'\n",
        "    objeto_python = json.loads(cadena_json)\n",
        "\n",
        "    ```\n",
        "\n",
        "  - Convertir Objetos de Python a JSON:<br/>\n",
        "    Para convertir un objeto de Python (por ejemplo, un diccionario o una lista) en una cadena formateada en JSON, puedes usar la función `dumps()`:\n",
        "    ```python\n",
        "    objeto_python = {\"nombre\": \"Juan\", \"edad\": 30, \"es_estudiante\": False}\n",
        "    cadena_json = json.dumps(objeto_python)\n",
        "\n",
        "    ```\n",
        "\n",
        "  - Trabajar con Archivos:<br/>\n",
        "    La biblioteca json también puede leer y escribir datos JSON desde/hacia archivos. Para leer JSON desde un archivo, puedes usar `load()`:\n",
        "    ```python\n",
        "    with open(\"datos.json\", \"r\") as archivo:\n",
        "        datos = json.load(archivo)\n",
        "\n",
        "    ```\n",
        "\n",
        "  - Para escribir JSON en un archivo, puedes usar `dump()`:<br/>\n",
        "    ```python\n",
        "    datos = {\"nombre\": \"Juan\", \"edad\": 30, \"es_estudiante\": False}\n",
        "    with open(\"datos.json\", \"w\") as archivo:\n",
        "    json.dump(datos, archivo)\n",
        "\n",
        "    ```\n",
        "\n",
        "  - Manejo de Estructuras de Datos Complejas:<br/>\n",
        "    `json` puede manejar estructuras de datos más complejas, como listas, diccionarios anidados e incluso combinaciones de listas y diccionarios.\n",
        "\n",
        "  - Manejo de Tipos de Datos Personalizados:<br/>\n",
        "    Por defecto, `json` puede serializar la mayoría de los tipos de datos estándar de Python. Sin embargo, si tienes objetos personalizados, puedes definir un proceso personalizado de serialización y deserialización utilizando los parámetros `default` y `object_hook` de `dumps()` y `loads()` respectivamente.\n",
        "\n",
        "\n",
        "# **EJERCICIOS**"
      ]
    },
    {
      "cell_type": "markdown",
      "metadata": {
        "id": "I1kgAOsTKqlx"
      },
      "source": [
        "<p>\n",
        "    <img src=\"https://cdn.icon-icons.com/icons2/1130/PNG/512/numberzeroinacircle_80181.png\" alt=\"01\" width=\"65\" height=\"65\" />\n",
        "    <img src=\"https://cdn.icon-icons.com/icons2/1130/PNG/512/numberoneinacircle_80030.png\" alt=\"01\" width=\"65\" height=\"65\" />\n",
        "</p>\n",
        "\n",
        "\n",
        "* **ID:** PYLVL2FJSON-01\n",
        "* **DESCRIPCIÓN:** Manejo de archivos json\n",
        "\n",
        "    Escribir dentro de la función ``function`` la lógica que retorne la representacion JSON (string) de un objeto.\n",
        "\n",
        "\\\n",
        "**Reglas:**\n",
        "1. No modifique o elimine la librería importada.\n",
        "2. No modifique la declaración de la función.\n",
        "3. Si no sigue alguna de estas reglas, el ejercicio será marcado como erroneo.\n",
        "\n",
        "\\\n",
        "**Respuesta Esperada**\n",
        "\n",
        "```python\n",
        "# Retornar la representacion JSON (string) del objeto\n",
        "return json_string\n",
        "```\n"
      ]
    },
    {
      "cell_type": "code",
      "execution_count": 1,
      "metadata": {
        "id": "esjp7Lp32t84"
      },
      "outputs": [],
      "source": [
        "# DONE Changed line 7 my_obj to file\n",
        "def function(my_obj):\n",
        "    import json\n",
        "    \"\"\"Escriba su codigo aqui...\"\"\"\n",
        "\n",
        "    with open(my_obj, 'r') as file:\n",
        "      json_string = str(json.loads(file))\n",
        "\n",
        "    return json_string"
      ]
    },
    {
      "cell_type": "markdown",
      "metadata": {
        "id": "kiToUnqMNmJc"
      },
      "source": [
        "<p>\n",
        "    <img src=\"https://cdn.icon-icons.com/icons2/1130/PNG/512/numberzeroinacircle_80181.png\" alt=\"02\" width=\"65\" height=\"65\" />\n",
        "    <img src=\"https://cdn.icon-icons.com/icons2/1130/PNG/512/numbertwoinacircle_80299.png\" alt=\"02\" width=\"65\" height=\"65\" />\n",
        "</p>\n",
        "\n",
        "* **ID:** PYLVL2FJSON-02\n",
        "* **DESCRIPCIÓN:** Manejo de archivos\n",
        "\n",
        "    Escribir dentro de la función ``function`` la lógica que retorne un objeto Python que se genera a partir de un JSON contenido en un string.\n",
        "\n",
        "\\\n",
        "**Reglas:**\n",
        "1. No modifique o elimine la librería importada.\n",
        "2. No modifique la declaración de la función.\n",
        "3. Si no sigue alguna de estas reglas, el ejercicio será marcado como erroneo.\n",
        "\n",
        "\\\n",
        "**Respuesta Esperada**\n",
        "\n",
        "```python\n",
        "# Retornar el objeto resultante a partir del insumo JSON.\n",
        "return objeto_python\n",
        "```"
      ]
    },
    {
      "cell_type": "code",
      "execution_count": 2,
      "metadata": {
        "id": "PP9Ioa9TQ8dy"
      },
      "outputs": [],
      "source": [
        "# DONE\n",
        "def function(my_str):\n",
        "    import json\n",
        "    \"\"\"Escriba su codigo aqui...\"\"\"\n",
        "    objeto_python = json.loads(my_str)\n",
        "\n",
        "    return objeto_python"
      ]
    },
    {
      "cell_type": "markdown",
      "metadata": {
        "id": "N5EqgFikQH46"
      },
      "source": [
        "<p>\n",
        "    <img src=\"https://cdn.icon-icons.com/icons2/1130/PNG/512/numberzeroinacircle_80181.png\" alt=\"03\" width=\"65\" height=\"65\" />\n",
        "    <img src=\"https://cdn.icon-icons.com/icons2/1130/PNG/512/numberthreeinacircle_80289.png\" alt=\"03\" width=\"65\" height=\"65\" />\n",
        "</p>\n",
        "\n",
        "\n",
        "* **ID:** PYLVL2FJSON-03\n",
        "* **DESCRIPCIÓN:** Manejo de archivos\n",
        "\n",
        "    Escribir dentro de la función ``function`` la lógica que permita escribir un objeto en un archivo el contenido en formato JSON.<br/>\n",
        "    Retornar el nombre del archivo donde se escribió el JSON.\n",
        "\n",
        "**Reglas:**\n",
        "1. No modifique la declaración de la variable path.\n",
        "2. Utilice with open y el modo escritura para hacer el ejercicio.\n",
        "3. No modifique o elimine la librería importada.\n",
        "4. No modifique la declaración de la variable path.\n",
        "5. No modifique la declaración de la función.\n",
        "6. No modifique el valor del return\n",
        "7. Si no sigue alguna de estas reglas, el ejercicio será marcado como erroneo.\n",
        "\n",
        "\\\n",
        "**Respuesta Esperada**\n",
        "\n",
        "```python\n",
        "# Nombre del archivo donde escribió el objeto JSON.\n",
        "# No enviar el archivo de texto resultante, se evalúa la lógica que implemente.\n",
        "return path\n",
        "```"
      ]
    },
    {
      "cell_type": "code",
      "execution_count": 15,
      "metadata": {
        "id": "wenUGkHINCyq"
      },
      "outputs": [],
      "source": [
        "# DONE\n",
        "def function(path, my_obj):\n",
        "    import json\n",
        "    \"\"\"Escriba su codigo aqui...\"\"\"\n",
        "\n",
        "    with open(path, 'w') as file:\n",
        "      json.dump(my_obj, file)\n",
        "      # print(path)\n",
        "\n",
        "    return path"
      ]
    },
    {
      "cell_type": "markdown",
      "metadata": {
        "id": "FUESHrYcl5Om"
      },
      "source": [
        "<p>\n",
        "    <img src=\"https://cdn.icon-icons.com/icons2/1130/PNG/512/numberzeroinacircle_80181.png\" alt=\"04\" width=\"65\" height=\"65\" />\n",
        "    <img src=\"https://cdn.icon-icons.com/icons2/1130/PNG/512/numberfourincircularbutton_80047.png\" alt=\"04\" width=\"65\" height=\"65\" />\n",
        "</p>\n",
        "\n",
        "\n",
        "* **ID:** PYLVL2FJSON-04\n",
        "* **DESCRIPCIÓN:** Manejo de archivos\n",
        "\n",
        "    Escribir dentro de la función ``function`` la lógica que permita leer el archivo JSON \"PYLVL2FJSON-4.json\" y retornar el objeto resultante.\n",
        "\n",
        "\\\n",
        "**Reglas:**\n",
        "1. Utilice with ``open(...)`` en modo lectura para hacer el ejercicio.\n",
        "2. No modifique o elimine la librería importada.\n",
        "3. No modifique la declaración de la variable path.\n",
        "4. No modifique la declaración de la función.\n",
        "5. Si no sigue alguna de estas reglas, el ejercicio será marcado como erroneo.\n",
        "\n",
        "\\\n",
        "**Respuesta Esperada**\n",
        "```python\n",
        "# Retornar el objeto resultante que contiene el archivo JSON.\n",
        "return contenido\n",
        "```"
      ]
    },
    {
      "cell_type": "code",
      "execution_count": 14,
      "metadata": {
        "cellView": "form",
        "id": "4kZX3b9om0ah",
        "colab": {
          "base_uri": "https://localhost:8080/"
        },
        "outputId": "c88c506f-d6aa-4b91-e5cb-69c665efad45"
      },
      "outputs": [
        {
          "output_type": "execute_result",
          "data": {
            "text/plain": [
              "[{'id': 39,\n",
              "  'name': 'Oscar',\n",
              "  'places': ['Berlin', 'Oslo'],\n",
              "  'is_active': True,\n",
              "  'info': {'age': 45, 'average': 9.24}}]"
            ]
          },
          "metadata": {},
          "execution_count": 14
        }
      ],
      "source": [
        "# DONE added line 7 to read file\n",
        "def function(path):\n",
        "    import json\n",
        "    \"\"\"Escriba su codigo aqui...\"\"\"\n",
        "\n",
        "    with open(path, 'r') as file:\n",
        "      json_content = file.read()\n",
        "      contenido = json.loads(json_content)\n",
        "\n",
        "    return contenido"
      ]
    },
    {
      "cell_type": "markdown",
      "metadata": {
        "id": "H-q-ea1V2t89"
      },
      "source": [
        "<p>\n",
        "    <img src=\"https://cdn.icon-icons.com/icons2/1130/PNG/512/numberzeroinacircle_80181.png\" alt=\"05\" width=\"65\" height=\"65\" />\n",
        "    <img src=\"https://cdn.icon-icons.com/icons2/1130/PNG/512/numberfiveincircularbutton_80245.png\" alt=\"05\" width=\"65\" height=\"65\" />\n",
        "</p>\n",
        "\n",
        "\n",
        "* **ID:** PYLVL2E-07\n",
        "* **DESCRIPCIÓN:** Manejo de archivos\n",
        "\n",
        "    Escribir dentro de la función ``function`` la lógica que permita acceder las llaves anidadas \"nombre\" y \"salario\" del siguiente JSON.\n",
        "\n",
        "    ```python\n",
        "    inputs = \"\"\"{\n",
        "        \"company\":{\n",
        "            \"empleado\":{\n",
        "                \"nombre\":\"Martin\",\n",
        "                \"payble\":{ \"salario\":5500, \"bonus\":800 }\n",
        "            }\n",
        "         }\n",
        "    }\"\"\"\n",
        "    ```\n",
        "\n",
        "\\\n",
        "**Reglas:**\n",
        "1. No modifique o elimine la librería importada.\n",
        "2. No modifique la declaración de la función.\n",
        "3. Si no sigue alguna de estas reglas, el ejercicio será marcado como erroneo.\n",
        "\n",
        "\\\n",
        "**Respuesta Esperada:** <br>\n",
        "```python\n",
        "# Retorne Los valores de las llaves solicitadas.\n",
        "return valor_1, valor_2\n",
        "```\n"
      ]
    },
    {
      "cell_type": "code",
      "execution_count": 6,
      "metadata": {
        "colab": {
          "base_uri": "https://localhost:8080/"
        },
        "id": "VND3hrS62t8-",
        "outputId": "036ebd49-d518-4901-cecf-171712c328d6"
      },
      "outputs": [
        {
          "output_type": "execute_result",
          "data": {
            "text/plain": [
              "('Martin', 5500)"
            ]
          },
          "metadata": {},
          "execution_count": 6
        }
      ],
      "source": [
        "# DONE fixed typo issue in line 10 payable for payble\n",
        "def function(json_string):\n",
        "    import json\n",
        "    \"\"\"Escriba su codigo aqui...\"\"\"\n",
        "\n",
        "    objeto_python = json.loads(json_string)\n",
        "\n",
        "    valor_1 = objeto_python[\"company\"][\"empleado\"][\"nombre\"]\n",
        "\n",
        "    valor_2 = objeto_python[\"company\"][\"empleado\"][\"payble\"][\"salario\"]\n",
        "\n",
        "    return valor_1, valor_2\n"
      ]
    },
    {
      "cell_type": "markdown",
      "metadata": {
        "id": "2eK8X7FE2t8_"
      },
      "source": [
        "<p>\n",
        "    <img src=\"https://cdn.icon-icons.com/icons2/1130/PNG/512/numberzeroinacircle_80181.png\" alt=\"06\" width=\"65\" height=\"65\" />\n",
        "    <img src=\"https://cdn.icon-icons.com/icons2/1130/PNG/512/numbersixinacircle_80203.png\" alt=\"06\" width=\"65\" height=\"65\" />\n",
        "</p>\n",
        "\n",
        "\n",
        "* **ID:** PYLVL2E-08\n",
        "* **DESCRIPCIÓN:** Manejo de archivos\n",
        "\n",
        "    Escribir dentro de la función ``function`` la lógica que permita parsear el siguiente JSON para obtener todos los valores de la key 'nombre' dentro de una lista.\n",
        "\n",
        "   ```python\n",
        "   inputs = \"\"\"[\n",
        "      {\n",
        "         \"id\":1,\n",
        "         \"nombre\":\"Andres\",\n",
        "         \"color\":[\n",
        "            \"rojo\",\n",
        "            \"verde\"\n",
        "         ]\n",
        "      },\n",
        "      {\n",
        "         \"id\":2,\n",
        "         \"nombre\":\"Natalia\",\n",
        "         \"color\":[\n",
        "            \"rosa\",\n",
        "            \"amarillo\"\n",
        "         ]\n",
        "      }\n",
        "   ]\"\"\"\n",
        "   ```\n",
        "\n",
        "\\\n",
        "**Reglas:**\n",
        "1. No modifique o elimine la librería importada.\n",
        "2. No modifique la declaración de la función.\n",
        "3. Si no sigue alguna de estas reglas, el ejercicio será marcado como erroneo.\n",
        "\n",
        "\\\n",
        "**Respuesta Esperada:** <br>\n",
        "```python\n",
        "# Retorne los nombres\n",
        "return nombres...\n",
        "```"
      ]
    },
    {
      "cell_type": "code",
      "execution_count": 5,
      "metadata": {
        "id": "nb5A9Nek2t8_"
      },
      "outputs": [],
      "source": [
        "# DONE\n",
        "\n",
        "def function(inputs):\n",
        "   import json\n",
        "   \"\"\"Escriba su codigo aqui...\"\"\"\n",
        "\n",
        "   object_json = json.loads(inputs)\n",
        "   nombres = []\n",
        "\n",
        "   for element in object_json:\n",
        "    if 'nombre' in element:\n",
        "      nombres.append(element['nombre'])\n",
        "\n",
        "   return nombres"
      ]
    }
  ],
  "metadata": {
    "colab": {
      "provenance": []
    },
    "kernelspec": {
      "display_name": "Python 3",
      "name": "python3"
    },
    "language_info": {
      "codemirror_mode": {
        "name": "ipython",
        "version": 3
      },
      "file_extension": ".py",
      "mimetype": "text/x-python",
      "name": "python",
      "nbconvert_exporter": "python",
      "pygments_lexer": "ipython3",
      "version": "3.9.12"
    }
  },
  "nbformat": 4,
  "nbformat_minor": 0
}