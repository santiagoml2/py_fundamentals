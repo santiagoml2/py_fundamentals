{
  "cells": [
    {
      "cell_type": "markdown",
      "metadata": {
        "id": "f95p817qByaC"
      },
      "source": [
        "<p><img src=\"https://upload.wikimedia.org/wikipedia/commons/thumb/1/13/SoftServe_logo_2017.svg/179px-SoftServe_logo_2017.svg.png?20220507181101\" alt=\"\" width=\"363\" height=\"63\" /></p>\n",
        "\n",
        "----\n",
        "\n",
        "### **INFORMACIÓN TÉCNICA**\n",
        "* **ID:** PYPLVL2_PYLVL2DBUC_E17_P15\n",
        "* **Python Versión:** 3.x\n",
        "* **Versión:** 0.0.1\n",
        "---\n",
        "### **INTRODUCCIÓN**\n",
        "\n",
        "En este módulo se ejercitará todo lo concerniente a los diferentes ciclos en python y su interacción con los temas antes vistos.\n",
        "\n",
        "En la programación, las estructuras de bucle se utilizan para ejecutar un bloque de código repetidamente basado en una cierta condición. Esto permite a los programadores realizar tareas repetitivas de manera eficiente sin tener que escribir el mismo código una y otra vez. Las estructuras de bucle son fundamentales en varios lenguajes de programación, incluido Python.\n",
        "\n",
        "En Python, hay dos tipos principales de estructuras de bucle: bucles `for` y bucles `while`.\n",
        "\n",
        "Es importante tener cuidado al usar bucles, ya que una implementación incorrecta o la falta de condiciones de salida puede llevar a bucles infinitos, donde el bucle se ejecuta indefinidamente y puede bloquear su programa o computadora.\n",
        "\n",
        "\n",
        "### **QUÉ SE APRENDERÁ**\n",
        "\n",
        "\n",
        "- Bucle `for`:\n",
        "   - El bucle `for` se utiliza cuando se desea iterar sobre una secuencia, como una lista, tupla, cadena o rango de números.\n",
        "   - La sintaxis básica de un bucle `for` en Python es la siguiente:\n",
        "     ```\n",
        "     for elemento in secuencia:\n",
        "         # Bloque de código que se ejecutará repetidamente\n",
        "     ```\n",
        "   - El bucle itera sobre cada elemento en la secuencia y el bloque de código se ejecuta para cada iteración. Una vez que se han procesado todos los elementos de la secuencia, el bucle termina.\n",
        "\n",
        "- Bucle `while`:\n",
        "   - El bucle `while` se utiliza cuando se desea repetir un bloque de código mientras se cumpla una condición específica.\n",
        "   - La sintaxis básica de un bucle `while` en Python es la siguiente:\n",
        "     ```\n",
        "     while condicion:\n",
        "         # Bloque de código que se ejecutará repetidamente\n",
        "     ```\n",
        "   - El bucle continúa ejecutando el bloque de código mientras la condición siga siendo `True`. Una vez que la condición se convierta en `False`, el bucle se detiene y el programa continúa con la siguiente sección de código.\n",
        "\n",
        "\n",
        "# **EJERCICIOS**"
      ]
    },
    {
      "cell_type": "markdown",
      "metadata": {
        "id": "AnTNDQoe4XPu"
      },
      "source": [
        "<p>\n",
        "    <img src=\"https://cdn.icon-icons.com/icons2/1130/PNG/512/numberzeroinacircle_80181.png\" alt=\"01\" width=\"65\" height=\"65\" />\n",
        "    <img src=\"https://cdn.icon-icons.com/icons2/1130/PNG/512/numberoneinacircle_80030.png\" alt=\"01\" width=\"65\" height=\"65\" />\n",
        "</p>\n",
        "\n",
        "* **ID:** PYLVL2DBUC-01\n",
        "* **DESCRIPCIÓN:** Ciclos for\n",
        "\n",
        "    Escribir dentro del cuerpo de la función ``function`` la lógica que permita imprimir y retornar el resultado de la suma de todos los elementos de la lista proporcionada usando un ciclo for. Usted deberá retornar el total de la suma.\n",
        "\n",
        "    **Nota**: La lista será dada como parámetro de la función y es una colección de números enteros. Usted debe imprimir y\n",
        "    retornar la suma  calculada.\n",
        "\n",
        "\\\n",
        "**Reglas:**\n",
        "1. No modifique la declaración ni la invocación de la función. El concepto detrás de las funciones se verá más adelante.\n",
        "2. Si no sigue alguna de estas reglas, el ejercicio será marcado como erróneo.\n",
        "\n",
        "\\\n",
        "**Respuesta Esperada:**\n",
        "\n",
        "```python\n",
        "# Retornar la suma total\n",
        "\n",
        "return suma_total\n",
        "```\n"
      ]
    },
    {
      "cell_type": "code",
      "execution_count": 25,
      "metadata": {
        "id": "qVd781tr4iQV",
        "colab": {
          "base_uri": "https://localhost:8080/"
        },
        "outputId": "ffd5a458-61b0-4c29-eefa-1118ddcf3ad3"
      },
      "outputs": [
        {
          "output_type": "execute_result",
          "data": {
            "text/plain": [
              "354"
            ]
          },
          "metadata": {},
          "execution_count": 25
        }
      ],
      "source": [
        "# DONE\n",
        "inputs = [\n",
        "   ([5, 3, 2, 1, 0],0),\n",
        "   ([100, 200, 50, 4],0),\n",
        "   ([50, 30, 20, 3],0),\n",
        "   ([15, 13, 12, -2],0),\n",
        "   ([8, 3, 8, 9],0),\n",
        "]\n",
        "\n",
        "def function(lista):\n",
        "    \"\"\" Escriba su codigo aqui\"\"\"\n",
        "\n",
        "    my_list, valor = lista\n",
        "    suma_total= 0\n",
        "\n",
        "    for elemento in my_list:\n",
        "      suma_total += elemento\n",
        "\n",
        "    return suma_total\n",
        "\n",
        "function(([5, 3, 2, 1, 0],0))\n",
        "\n"
      ]
    },
    {
      "cell_type": "markdown",
      "metadata": {
        "id": "kiToUnqMNmJc"
      },
      "source": [
        "<p>\n",
        "    <img src=\"https://cdn.icon-icons.com/icons2/1130/PNG/512/numberzeroinacircle_80181.png\" alt=\"02\" width=\"65\" height=\"65\" />\n",
        "    <img src=\"https://cdn.icon-icons.com/icons2/1130/PNG/512/numbertwoinacircle_80299.png\" alt=\"02\" width=\"65\" height=\"65\" />\n",
        "</p>\n",
        "\n",
        "\n",
        "* **ID:** PYLVL2DBUC-02\n",
        "* **DESCRIPCIÓN:** Ciclos for\n",
        "\n",
        "    Escribir dentro del cuerpo de la función ``function`` la lógica que permita retornar una lista dada en orden inverso e imprimir y retornar la lista reversada.\n",
        "\n",
        "    **Nota**: La lista será dada como parámetro de la función y contiene una colección de números enteros. Usted deberá imprimir la lista invertida y retornarla.\n",
        "\n",
        "\n",
        "\n",
        "\\\n",
        "**Reglas:**\n",
        "1. No modifique la declaración ni la invocación de la función. El concepto detrás de las funciones se verá más adelante.\n",
        "2. Si no sigue alguna de estas reglas, el ejercicio será marcado como erróneo.\n",
        "\n",
        "\\\n",
        "**Respuesta Esperada:**\n",
        "\n",
        "```python\n",
        "# Retornar la lista en orden reverso\n",
        "\n",
        "return lista_orden_reverso\n",
        "```\n"
      ]
    },
    {
      "cell_type": "code",
      "execution_count": null,
      "metadata": {
        "id": "PP9Ioa9TQ8dy",
        "colab": {
          "base_uri": "https://localhost:8080/"
        },
        "outputId": "189fc54c-c1e1-4c6e-9884-c6eaa085aec1"
      },
      "outputs": [
        {
          "output_type": "stream",
          "name": "stdout",
          "text": [
            "[0, 1, 2, 3, 5]\n"
          ]
        },
        {
          "output_type": "execute_result",
          "data": {
            "text/plain": [
              "[0, 1, 2, 3, 5]"
            ]
          },
          "metadata": {},
          "execution_count": 32
        }
      ],
      "source": [
        "# DONE\n",
        "def function(lista):\n",
        "    \"\"\"Escriba su codigo aqui...\"\"\"\n",
        "    lista_orden_reverso = []\n",
        "\n",
        "    for elemento in lista:\n",
        "      lista_orden_reverso.append(elemento)\n",
        "\n",
        "    lista_orden_reverso.reverse()\n",
        "\n",
        "    print(lista_orden_reverso)\n",
        "    return lista_orden_reverso\n",
        "\n",
        "function([5, 3, 2, 1, 0])"
      ]
    },
    {
      "cell_type": "markdown",
      "metadata": {
        "id": "N5EqgFikQH46"
      },
      "source": [
        "<p>\n",
        "    <img src=\"https://cdn.icon-icons.com/icons2/1130/PNG/512/numberzeroinacircle_80181.png\" alt=\"03\" width=\"65\" height=\"65\" />\n",
        "    <img src=\"https://cdn.icon-icons.com/icons2/1130/PNG/512/numberthreeinacircle_80289.png\" alt=\"03\" width=\"65\" height=\"65\" />\n",
        "</p>\n",
        "\n",
        "\n",
        "* **ID:** PYLVL2DBUC-03\n",
        "* **DESCRIPCIÓN:** Ciclos for\n",
        "\n",
        "    Dado un parámetro `string`, escribir dentro del cuerpo de la función ``function`` la lógica que permita recorrerlo y eliminar todos los caracteres 'c' y 'C' que este contenga, adicionalmente imprima y retorne el string resultante.\n",
        "\n",
        "    **Nota**: El string será dado como parámetro de la función. Usted debe imprimir y retornar el string resultante sin 'c' ni 'C'.\n",
        "\n",
        "\\\n",
        "**Reglas:**\n",
        "1. No modifique la declaración ni la invocación de la función. El concepto detrás de las funciones se verá más adelante.\n",
        "2. Si no sigue alguna de estas reglas, el ejercicio será marcado como erróneo.\n",
        "\n",
        "\\\n",
        "**Respuesta Esperada:**\n",
        "\n",
        "```python\n",
        "return string_resultante\n",
        "```\n"
      ]
    },
    {
      "cell_type": "code",
      "execution_count": null,
      "metadata": {
        "id": "wenUGkHINCyq",
        "colab": {
          "base_uri": "https://localhost:8080/",
          "height": 53
        },
        "outputId": "24bc7106-1464-4da6-e4b4-f034324ea5ec"
      },
      "outputs": [
        {
          "output_type": "stream",
          "name": "stdout",
          "text": [
            "hiago\n"
          ]
        },
        {
          "output_type": "execute_result",
          "data": {
            "text/plain": [
              "'hiago'"
            ],
            "application/vnd.google.colaboratory.intrinsic+json": {
              "type": "string"
            }
          },
          "metadata": {},
          "execution_count": 22
        }
      ],
      "source": [
        "# DONE\n",
        "def function(string):\n",
        "    \"Escriba su codigo aqui...\"\n",
        "\n",
        "    string_resultante = ''\n",
        "\n",
        "    for letra in string:\n",
        "\n",
        "      if letra == 'C' or letra == 'c':\n",
        "        continue\n",
        "      else:\n",
        "        string_resultante += letra\n",
        "\n",
        "    print(string_resultante)\n",
        "    return string_resultante\n",
        "\n",
        "function('Chicago')"
      ]
    },
    {
      "cell_type": "markdown",
      "metadata": {
        "id": "FUESHrYcl5Om"
      },
      "source": [
        "<p>\n",
        "    <img src=\"https://cdn.icon-icons.com/icons2/1130/PNG/512/numberzeroinacircle_80181.png\" alt=\"04\" width=\"65\" height=\"65\" />\n",
        "    <img src=\"https://cdn.icon-icons.com/icons2/1130/PNG/512/numberfourincircularbutton_80047.png\" alt=\"04\" width=\"65\" height=\"65\" />\n",
        "</p>\n",
        "\n",
        "\n",
        "* **ID:** PYLVL2DBUC-04\n",
        "* **DESCRIPCIÓN:** Ciclos for\n",
        "\n",
        "     Escribir dentro del cuerpo de la función ``function`` la lógica que imprima por pantalla un triángulo rectángulo como el siguiente con la altura definida por número dado por el parámetro `num` que contiene un entero como valor. De igual manera se deberá retornar el conteo de asteriscos (*) (número de asteriscos total) que le tomó dibujar el árbol.\n",
        "\n",
        "    Ejemplo de árbol:\n",
        "    ```\n",
        "      *\n",
        "      **\n",
        "      ***\n",
        "      ****\n",
        "      *****\n",
        "    ```\n",
        "    El número que define la altura del triángulo será dado como parámetro de la función. Usted debe retornar el número de asteriscos que le tomó dibujar el árbol.\n",
        "\n",
        "\\\n",
        "**Reglas:**\n",
        "1. No modifique la declaración ni la invocación de la función. El concepto detrás de las funciones se verá más adelante.\n",
        "2. Si no sigue alguna de estas reglas, el ejercicio será marcado como erróneo.\n",
        "\n",
        "\\\n",
        "**Respuesta Esperada:**\n",
        "\n",
        "```python\n",
        "return conteo\n",
        "```\n"
      ]
    },
    {
      "cell_type": "code",
      "execution_count": 11,
      "metadata": {
        "cellView": "form",
        "id": "4kZX3b9om0ah",
        "colab": {
          "base_uri": "https://localhost:8080/"
        },
        "outputId": "be11a998-004c-4ec9-ef7a-1a635709d91e"
      },
      "outputs": [
        {
          "output_type": "stream",
          "name": "stdout",
          "text": [
            "*\n",
            "**\n",
            "***\n",
            "****\n",
            "*****\n"
          ]
        },
        {
          "output_type": "execute_result",
          "data": {
            "text/plain": [
              "15"
            ]
          },
          "metadata": {},
          "execution_count": 11
        }
      ],
      "source": [
        "# DONE\n",
        "def function(num):\n",
        "    \"\"\"Escriba su codigo aqui...\"\"\"\n",
        "\n",
        "    conteo = 0\n",
        "\n",
        "    for i in range(1, num+1):\n",
        "      fila = '*' * i\n",
        "      conteo += len(fila)\n",
        "      print(fila)\n",
        "\n",
        "    return conteo\n",
        "\n",
        "\n",
        "function(5)"
      ]
    },
    {
      "cell_type": "markdown",
      "metadata": {
        "id": "0pZeFzl3u6xX"
      },
      "source": [
        "<p>\n",
        "    <img src=\"https://cdn.icon-icons.com/icons2/1130/PNG/512/numberzeroinacircle_80181.png\" alt=\"05\" width=\"65\" height=\"65\" />\n",
        "    <img src=\"https://cdn.icon-icons.com/icons2/1130/PNG/512/numberfiveincircularbutton_80245.png\" alt=\"05\" width=\"65\" height=\"65\" />\n",
        "</p>\n",
        "\n",
        "\n",
        "* **ID:** PYLVL2DBUC-05\n",
        "* **DESCRIPCIÓN:** Ciclos While\n",
        "\n",
        "    Escribir dentro del cuerpo de la función ``function`` la lógica que imprima por pantalla si un número entero positivo mayor que 2 es un número primo o no, en caso positivo retorne un True, en caso que el número no sea primo, retorne un False.\n",
        "\n",
        "    **Nota**: El número que debe evaluarse será dado como parámetro de la función. Usted debe retornar un True, en caso de que el número sea un número primo, y debe retornar un False en caso de que el número no lo sea.\n",
        "\n",
        "\\\n",
        "**Reglas:**\n",
        "1. No modifique la declaración ni la invocación de la función. El concepto detrás de las funciones se verá más adelante.\n",
        "2. Si no sigue alguna de estas reglas, el ejercicio será marcado como erróneo.\n",
        "\n",
        "\\\n",
        "**Respuesta Esperada:**\n",
        "\n",
        "```python\n",
        "return True/False\n",
        "```\n"
      ]
    },
    {
      "cell_type": "code",
      "execution_count": null,
      "metadata": {
        "id": "cFFxFvggu6xX",
        "colab": {
          "base_uri": "https://localhost:8080/"
        },
        "outputId": "a212ca00-d7bd-45de-df27-aa3e17b78dc1"
      },
      "outputs": [
        {
          "output_type": "execute_result",
          "data": {
            "text/plain": [
              "False"
            ]
          },
          "metadata": {},
          "execution_count": 41
        }
      ],
      "source": [
        "# DONE\n",
        "def function(num):\n",
        "    \"\"\"Escriba su codigo aqui...\"\"\"\n",
        "\n",
        "    for i in range(2,num):\n",
        "      if num % i == 0:\n",
        "        return False\n",
        "      else:\n",
        "        return True\n",
        "\n",
        "function(5)"
      ]
    },
    {
      "cell_type": "markdown",
      "metadata": {
        "id": "uGfCY8hLu6xX"
      },
      "source": [
        "<p>\n",
        "    <img src=\"https://cdn.icon-icons.com/icons2/1130/PNG/512/numberzeroinacircle_80181.png\" alt=\"06\" width=\"65\" height=\"65\" />\n",
        "    <img src=\"https://cdn.icon-icons.com/icons2/1130/PNG/512/numbersixinacircle_80203.png\" alt=\"06\" width=\"65\" height=\"65\" />\n",
        "</p>\n",
        "\n",
        "\n",
        "* **ID:** PYLVL2DBUC-06\n",
        "* **DESCRIPCIÓN:** Ciclos for\n",
        "\n",
        "    Escribir dentro del cuerpo de la función ``function`` la lógica que detecte cuál es el menor valor de la lista dada por parámetro y cuál es el mayor valor de la lista.\n",
        "\n",
        "    **Nota**: La lista será dada como parámetro de la función y contiene solo valores númericos. Retornar el menor valor y el mayor valor sin utilizar las funciones `min` y `max`.\n",
        "\n",
        "\\\n",
        "**Reglas:**\n",
        "1. No modifique la declaración ni la invocación de la función. El concepto detrás de las funciones se verá más adelante.\n",
        "2. Si no sigue alguna de estas reglas, el ejercicio será marcado como erróneo.\n",
        "\n",
        "\\\n",
        "**Respuesta Esperada:**\n",
        "\n",
        "```python\n",
        "return minimo, maximo\n",
        "```"
      ]
    },
    {
      "cell_type": "code",
      "execution_count": null,
      "metadata": {
        "id": "JB_KSVPtu6xX",
        "colab": {
          "base_uri": "https://localhost:8080/"
        },
        "outputId": "05cb463f-3230-4f6e-b78f-165472919ba5"
      },
      "outputs": [
        {
          "output_type": "execute_result",
          "data": {
            "text/plain": [
              "(8, 80)"
            ]
          },
          "metadata": {},
          "execution_count": 43
        }
      ],
      "source": [
        "# DONE\n",
        "def function(lista):\n",
        "    \"\"\"Escriba su codigo aqui...\"\"\"\n",
        "\n",
        "    lista_temporal = []\n",
        "\n",
        "    for elemento in lista:\n",
        "      lista_temporal.append(elemento)\n",
        "\n",
        "    lista_temporal.sort()\n",
        "\n",
        "    minimo = lista_temporal[0]\n",
        "    maximo = lista_temporal[-1]\n",
        "\n",
        "\n",
        "    return minimo, maximo\n",
        "\n",
        "\n",
        "function([50, 75, 46, 22, 80, 65, 8])"
      ]
    },
    {
      "cell_type": "markdown",
      "metadata": {
        "id": "KuZcQE6Vu6xX"
      },
      "source": [
        "<p>\n",
        "    <img src=\"https://cdn.icon-icons.com/icons2/1130/PNG/512/numberzeroinacircle_80181.png\" alt=\"07\" width=\"65\" height=\"65\" />\n",
        "    <img src=\"https://cdn.icon-icons.com/icons2/1130/PNG/512/numberseveninacircle_80279.png\" alt=\"07\" width=\"65\" height=\"65\" />\n",
        "</p>\n",
        "\n",
        "\n",
        "* **ID:** PYLVL2DBUC-07\n",
        "* **DESCRIPCIÓN:** Ciclos\n",
        "\n",
        "    Escribir dentro del cuerpo de la función ``function`` la lógica que permita imprimir los objetos de un diccionario ordenado por sus keys. Adicionalmente, usted deberá retornar una lista con las keys ordenadas del diccionario. Su código debe seguir las siguientes condiciones:\n",
        "\n",
        "    1. Puede asumir que todas las keys son strings.\n",
        "    2. Las keys deben estar ordenadas por orden alfabético.\n",
        "    3. El formato a imprimir es {}: {}\n",
        "\n",
        "    **Nota**: El diccionario será dado como parámetro de la función. Retornar una lista sólo con las keys ordenadas del diccionario.\n",
        "\n",
        "\\\n",
        "**Reglas:**\n",
        "1. No modifique la declaración ni la invocación de la función. El concepto detrás de las funciones se verá más adelante.\n",
        "2. Si no sigue alguna de estas reglas, el ejercicio será marcado como erróneo.\n",
        "\n",
        "\\\n",
        "**Respuesta Esperada:**\n",
        "\n",
        "```python\n",
        "return llaves_diccionario\n",
        "```\n"
      ]
    },
    {
      "cell_type": "code",
      "execution_count": 2,
      "metadata": {
        "id": "lfnMUF5mu6xX",
        "colab": {
          "base_uri": "https://localhost:8080/"
        },
        "outputId": "40fbae0a-bed2-4d94-8281-6e2e2640da28"
      },
      "outputs": [
        {
          "output_type": "stream",
          "name": "stdout",
          "text": [
            "Name:Softserve\n",
            "Number:89\n",
            "ids:[1, 2, 3]\n",
            "language:Python\n",
            "track:High level\n"
          ]
        },
        {
          "output_type": "execute_result",
          "data": {
            "text/plain": [
              "['Name', 'Number', 'ids', 'language', 'track']"
            ]
          },
          "metadata": {},
          "execution_count": 2
        }
      ],
      "source": [
        "# DONE take a look at sorted case sensitive\n",
        "def function(dicc):\n",
        "    \"\"\"Escriba su codigo aqui...\"\"\"\n",
        "    llaves_diccionario = sorted(dicc.keys())\n",
        "\n",
        "    for key in llaves_diccionario:\n",
        "      value = dicc[key]\n",
        "      print(f'{key}:{value}')\n",
        "\n",
        "    return llaves_diccionario\n",
        "\n",
        "\n",
        "function({ 'language': \"Python\", 'Number': 89, 'track': \"High level\", 'Name': 'Softserve', 'ids': [1, 2, 3] })"
      ]
    },
    {
      "cell_type": "markdown",
      "metadata": {
        "id": "X5aLAVGmu6xX"
      },
      "source": [
        "<p>\n",
        "    <img src=\"https://cdn.icon-icons.com/icons2/1130/PNG/512/numberzeroinacircle_80181.png\" alt=\"08\" width=\"65\" height=\"65\" />\n",
        "    <img src=\"https://cdn.icon-icons.com/icons2/1130/PNG/512/numbereightinacircle_80071.png\" alt=\"08\" width=\"65\" height=\"65\" />\n",
        "</p>\n",
        "\n",
        "\n",
        "* **ID:** PYLVL2DBUC-08\n",
        "* **DESCRIPCIÓN:** Ciclos\n",
        "\n",
        "    Escribir dentro del cuerpo de la función ``function`` la lógica que permita borrar las keys que contengan un valor en específico de un diccionario dado y luego de esto, imprima y retorne el diccionario resultante.\n",
        "\n",
        "    1. Si el valor no existe en el diccionario se retornará el diccionario sin ningun cambio.\n",
        "    2. Se deben borrar todas las keys que contengan el valor especificado.\n",
        "\n",
        "    **Nota**: El diccionario será dado como parámetro de la función al igual que el valor que debe buscar. Usted debe retornar el diccionario sin cambios si no encuentra el valor o el diccionario sin el valor especificado.\n",
        "\n",
        "\\\n",
        "**Reglas:**\n",
        "1. No modifique la declaración ni la invocación de la función. El concepto detrás de las funciones se verá más adelante.\n",
        "2. Si no sigue alguna de estas reglas, el ejercicio será marcado como erróneo.\n",
        "\n",
        "\\\n",
        "**Respuesta Esperada:**\n",
        "\n",
        "```python\n",
        "return diccionario\n",
        "```\n",
        "\n"
      ]
    },
    {
      "cell_type": "code",
      "execution_count": null,
      "metadata": {
        "id": "DQ4CBHx4u6xY",
        "colab": {
          "base_uri": "https://localhost:8080/"
        },
        "outputId": "42608b36-43eb-4787-b953-0da705285b1a"
      },
      "outputs": [
        {
          "output_type": "stream",
          "name": "stdout",
          "text": [
            "{'lang': 'C', 'track': 'Low', 'pref': 'C', 'ids': [1, 'C', 3]}\n"
          ]
        },
        {
          "output_type": "execute_result",
          "data": {
            "text/plain": [
              "{'lang': 'C', 'track': 'Low', 'pref': 'C', 'ids': [1, 'C', 3]}"
            ]
          },
          "metadata": {},
          "execution_count": 25
        }
      ],
      "source": [
        "# DONE\n",
        "def function(diccionario, valor):\n",
        "    \"\"\"Escriba su codigo aqui...\"\"\"\n",
        "    '''\n",
        "    print(f'El diccionario orginal:\\n{diccionario}')\n",
        "    print(f'El valor: {valor}')\n",
        "    print(f'Keys: {diccionario.keys()}')\n",
        "    '''\n",
        "\n",
        "    keys_delete = []\n",
        "\n",
        "    for key,value in diccionario.items():\n",
        "      if key == valor:\n",
        "        keys_delete.append(key)\n",
        "\n",
        "    for key in keys_delete:\n",
        "      del diccionario[key]\n",
        "\n",
        "    print(diccionario)\n",
        "    return diccionario\n",
        "\n",
        "function({'lang': \"C\", 'track': \"Low\", 'pref': \"C\", 'ids': [1, \"C\", 3]}, \"C\")"
      ]
    },
    {
      "cell_type": "markdown",
      "metadata": {
        "id": "tzRT43wGu6xY"
      },
      "source": [
        "<p>\n",
        "    <img src=\"https://cdn.icon-icons.com/icons2/1130/PNG/512/numberzeroinacircle_80181.png\" alt=\"09\" width=\"65\" height=\"65\" />\n",
        "    <img src=\"https://cdn.icon-icons.com/icons2/1130/PNG/512/numbernineinacircle_80218.png\" alt=\"09\" width=\"65\" height=\"65\" />\n",
        "</p>\n",
        "\n",
        "* **ID:** PYLVL2DBUC-09\n",
        "* **DESCRIPCIÓN:** Ciclos\n",
        "\n",
        "    Escribir dentro del cuerpo de la función ``function`` la lógica en la que dada una frase y una letra, se retorne el número de veces que aparece la letra en la frase proporcionada.\n",
        "\n",
        "    **Nota**: La frase y la letra serán dados como parámetros de la funcion. Usted deberá retornar el número de veces que aparece la letra en la frase proporcionada.\n",
        "\n",
        "\\\n",
        "**Reglas:**\n",
        "1. No modifique la declaración ni la invocación de la función. El concepto detrás de las funciones se verá más adelante.\n",
        "2. Si no sigue alguna de estas reglas, el ejercicio será marcado como erróneo.\n",
        "\n",
        "\\\n",
        "**Respuesta Esperada:**\n",
        "\n",
        "```python\n",
        "return diccionario\n",
        "```\n",
        "\n"
      ]
    },
    {
      "cell_type": "code",
      "execution_count": null,
      "metadata": {
        "id": "I8snsLM3u6xY",
        "colab": {
          "base_uri": "https://localhost:8080/"
        },
        "outputId": "ead8c03f-4858-4281-b3ad-e492ae79fe95"
      },
      "outputs": [
        {
          "output_type": "execute_result",
          "data": {
            "text/plain": [
              "3"
            ]
          },
          "metadata": {},
          "execution_count": 64
        }
      ],
      "source": [
        "# DONE\n",
        "inputs = [\n",
        "    (\"La vida es bella\", \"a\"),\n",
        "    (\"Todo lo malo pasará\", \"o\"),\n",
        "    (\"Roma amor\", \"R\")\n",
        "]\n",
        "\n",
        "def function(frase, letra):\n",
        "    \"\"\"Escriba su codigo aqui...\"\"\"\n",
        "\n",
        "    string_as_list = list(frase)\n",
        "    # print(string_as_list)\n",
        "\n",
        "    diccionario = 0\n",
        "    conteo = []\n",
        "\n",
        "    for caracter in string_as_list:\n",
        "      if caracter != letra:\n",
        "        continue\n",
        "      else:\n",
        "        diccionario += string_as_list.count(letra)\n",
        "        conteo.append(letra)\n",
        "        diccionario = len(conteo)\n",
        "\n",
        "    return diccionario\n",
        "\n",
        "function(\"La vida es bella\", \"a\")\n"
      ]
    },
    {
      "cell_type": "markdown",
      "metadata": {
        "id": "6Piymx0cu6xY"
      },
      "source": [
        "<p>\n",
        "    <img src=\"https://cdn.icon-icons.com/icons2/1130/PNG/512/numberoneinacircle_80030.png\" alt=\"10\" width=\"65\" height=\"65\" />\n",
        "    <img src=\"https://cdn.icon-icons.com/icons2/1130/PNG/512/numberzeroinacircle_80181.png\" alt=\"10\" width=\"65\" height=\"65\" />\n",
        "</p>\n",
        "\n",
        "\n",
        "* **ID:** PYLVL2DBUC-10\n",
        "* **DESCRIPCIÓN:** Ciclos\n",
        "\n",
        "   Escribir dentro de la función ``function`` la lógica que lea un string dado por parámetro y devuelva un diccionario con la cantidad de apariciones de cada carácter en la cadena.\n",
        "\n",
        "   **Nota**: El string a evaluar será dado como parámetro de la función. Retornar un diccionario con el conteo de cada uno de los caracteres del string proporcionado.\n",
        "\n",
        "\\\n",
        "**Reglas:**\n",
        "1. No modifique la declaración ni la invocación de la función. El concepto detrás de las funciones se verá más adelante.\n",
        "2. Si no sigue alguna de estas reglas, el ejercicio será marcado como erróneo.\n",
        "\n",
        "\\\n",
        "**Respuesta Esperada:**\n",
        "\n",
        "```python\n",
        "# Retornar un diccionario con el conteo de cada uno de los caracteres del string proporcionado.\n",
        "\n",
        "return diccionario\n",
        "```"
      ]
    },
    {
      "cell_type": "code",
      "execution_count": null,
      "metadata": {
        "id": "o8DI6qHEu6xY",
        "colab": {
          "base_uri": "https://localhost:8080/"
        },
        "outputId": "afa04cf4-e9ea-4919-c5c2-b930b302b798"
      },
      "outputs": [
        {
          "output_type": "execute_result",
          "data": {
            "text/plain": [
              "{'m': 1,\n",
              " 'e': 1,\n",
              " ' ': 2,\n",
              " 'g': 1,\n",
              " 'u': 1,\n",
              " 's': 1,\n",
              " 't': 2,\n",
              " 'a': 1,\n",
              " 'p': 1,\n",
              " 'y': 1,\n",
              " 'h': 1,\n",
              " 'o': 1,\n",
              " 'n': 1}"
            ]
          },
          "metadata": {},
          "execution_count": 31
        }
      ],
      "source": [
        "# DONE\n",
        "def function(str):\n",
        "    \"\"\"Escriba su codigo aqui ...\"\"\"\n",
        "\n",
        "    diccionario = {}\n",
        "    for caracter in str:\n",
        "      if caracter in  diccionario:\n",
        "         diccionario[caracter] += 1\n",
        "      else:\n",
        "         diccionario[caracter] = 1\n",
        "\n",
        "    return diccionario\n",
        "\n",
        "function(\"me gusta python\")\n"
      ]
    },
    {
      "cell_type": "markdown",
      "metadata": {
        "id": "i5kNeLojucrG"
      },
      "source": [
        "<p><img src=\"https://cdn.icon-icons.com/icons2/1130/PNG/512/numberoneinacircle_80030.png\" alt=\"11\" width=\"65\" height=\"65\" />\n",
        "   <img src=\"https://cdn.icon-icons.com/icons2/1130/PNG/512/numberoneinacircle_80030.png\" alt=\"11\" width=\"65\" height=\"65\" /></p>\n",
        "\n",
        "\n",
        "* **ID:** PYLVL2DBUC-11\n",
        "* **DESCRIPCIÓN:** Ciclos while\n",
        "\n",
        "   Escribir dentro del cuerpo de la función ``function`` la lógica que permita encontrar el múltiplo más pequeño de los primeros `n` números. Además, imprima una lista con los factores.\n",
        "\n",
        "   **Nota**: El valor n será dado como parámetro de la función. Retornar el multiplo más pequeño y también una lista con los factores.\n",
        "\n",
        "\\\n",
        "**Reglas:**\n",
        "1. No modifique la declaración ni la invocación de la función. El concepto detrás de las funciones se verá más adelante.\n",
        "2. Si no sigue alguna de estas reglas, el ejercicio será marcado como erróneo.\n",
        "\n",
        "\\\n",
        "**Respuesta Esperada:**\n",
        "\n",
        "```python\n",
        "# Retornar el multiplo más pequeño y tambien los factores.\n",
        "\n",
        "return minimo_multiplo, factores\n",
        "```\n"
      ]
    },
    {
      "cell_type": "code",
      "execution_count": 68,
      "metadata": {
        "id": "CGANmO30i_VU",
        "colab": {
          "base_uri": "https://localhost:8080/"
        },
        "outputId": "90af99f7-26e5-47af-f78f-d926b4efd3d4"
      },
      "outputs": [
        {
          "output_type": "execute_result",
          "data": {
            "text/plain": [
              "(360360, [1, 2, 3, 4, 5, 6, 7, 8, 9, 10, 11, 12, 13])"
            ]
          },
          "metadata": {},
          "execution_count": 68
        }
      ],
      "source": [
        "# DONE\n",
        "inputs = [\n",
        "    (13,),\n",
        "    (11,),\n",
        "    (9,),\n",
        "    (3,)\n",
        "]\n",
        "\n",
        "def function(n):\n",
        "    \"\"\"Escriba su codigo aqui...\"\"\"\n",
        "\n",
        "    multiplo = 1\n",
        "    factores = []\n",
        "\n",
        "    while True:\n",
        "      factores.clear()\n",
        "      for i in range(1, n+1):\n",
        "        if multiplo % i == 0:\n",
        "          factores.append(i)\n",
        "        else:\n",
        "          break\n",
        "\n",
        "      if len(factores) == n:\n",
        "        break\n",
        "\n",
        "      multiplo += 1\n",
        "\n",
        "\n",
        "\n",
        "    return multiplo, factores\n",
        "\n",
        "function(13)"
      ]
    },
    {
      "cell_type": "markdown",
      "metadata": {
        "id": "GseJKq-wsqAB"
      },
      "source": [
        "<p><img src=\"https://cdn.icon-icons.com/icons2/1130/PNG/512/numberoneinacircle_80030.png\" alt=\"12\" width=\"65\" height=\"65\" />\n",
        "   <img src=\"https://cdn.icon-icons.com/icons2/1130/PNG/512/numbertwoinacircle_80299.png\" alt=\"12\" width=\"65\" height=\"65\" /></p>\n",
        "\n",
        "\n",
        "\n",
        "* **ID:** PYLVL2DBUC-12\n",
        "* **DESCRIPCIÓN:** Ciclos for/while\n",
        "\n",
        "   Escribir dentro del cuerpo de la función ``function`` la lógica que permita calcular la diferencia entre la suma al cuadrado de los primeros n números naturales y la suma de los primeros n números naturales al cuadrado (valor predeterminado de número = 2).\n",
        "\n",
        "   **Nota**: El valor `n` será dado como parámetro de la función. Retornar la diferencia entre la suma al cuadrado de los primeros n números naturales y la suma de los primeros n números naturales al cuadrado.\n",
        "\n",
        "\\\n",
        "**Reglas:**\n",
        "1. No modifique la declaración ni la invocación de la función. El concepto detrás de las funciones se verá más adelante.\n",
        "2. Si no sigue alguna de estas reglas, el ejercicio será marcado como erróneo.\n",
        "\n",
        "\\\n",
        "**Respuesta Esperada:**\n",
        "\n",
        "```python\n",
        "return diferencia_cuadrados\n",
        "\n",
        "```\n"
      ]
    },
    {
      "cell_type": "code",
      "execution_count": 23,
      "metadata": {
        "id": "Hkw2nVBPtpia",
        "colab": {
          "base_uri": "https://localhost:8080/"
        },
        "outputId": "17411fa3-d53e-431e-e567-1ffaf7aac4d1"
      },
      "outputs": [
        {
          "output_type": "execute_result",
          "data": {
            "text/plain": [
              "-30"
            ]
          },
          "metadata": {},
          "execution_count": 23
        }
      ],
      "source": [
        "# DONE\n",
        "def function(n):\n",
        "    \"\"\"Escriba su codigo aqui...\"\"\"\n",
        "    '''\n",
        "    lista = []\n",
        "\n",
        "    while n <= 1:\n",
        "      lista.append(n)\n",
        "\n",
        "    print(lista)\n",
        "\n",
        "    diferencia_cuadrados = 0\n",
        "\n",
        "    for numero in lista:\n",
        "      suma_normal= n**2 + n**2\n",
        "      suma_cuadrado = (n + n) ** 2\n",
        "      diferencia_cuadrados = suma_cuadrado - suma_normal\n",
        "      print(diferencia_cuadrados)\n",
        "    '''\n",
        "\n",
        "    suma_cuadrados = 0\n",
        "    suma = 0\n",
        "\n",
        "    for i in range(1, n+1):\n",
        "      suma_cuadrados += i**2\n",
        "      suma += 1\n",
        "\n",
        "    diferencia_cuadrados = suma ** 2 - suma_cuadrados\n",
        "\n",
        "\n",
        "    return diferencia_cuadrados\n",
        "\n",
        "\n",
        "function(5)"
      ]
    },
    {
      "cell_type": "markdown",
      "metadata": {
        "id": "E8gOdsJh2QwU"
      },
      "source": [
        "<p><img src=\"https://cdn.icon-icons.com/icons2/1130/PNG/512/numberoneinacircle_80030.png\" alt=\"13\" width=\"65\" height=\"65\" />\n",
        "   <img src=\"https://cdn.icon-icons.com/icons2/1130/PNG/512/numberthreeinacircle_80289.png\" alt=\"13\" width=\"65\" height=\"65\" /></p>\n",
        "\n",
        "\n",
        "* **ID:** PYLVL2DBUC-13\n",
        "* **DESCRIPCIÓN:** Ciclos for/while\n",
        "\n",
        "   Escribir dentro del cuerpo de la función ``function`` la lógica para que dada una palabra, se retorne y se imprima por pantalla una lista con las letras de la palabra introducida empezando por la última.\n",
        "\n",
        "   **Nota**: La palabra a analizar será dada como parámetro de la función. Retornar una lista con las letras invertidas.\n",
        "\n",
        "\\\n",
        "**Reglas:**\n",
        "1. No modifique la declaración ni la invocación de la función. El concepto detrás de las funciones se verá más adelante.\n",
        "2. Si no sigue alguna de estas reglas, el ejercicio será marcado como erróneo.\n",
        "\n",
        "\\\n",
        "**Respuesta Esperada:**\n",
        "\n",
        "```python\n",
        "# Retornar una lista con las letras invertidas.\n",
        "\n",
        "return lista\n",
        "```\n"
      ]
    },
    {
      "cell_type": "code",
      "execution_count": 35,
      "metadata": {
        "id": "fbHlMZuX3tLu",
        "colab": {
          "base_uri": "https://localhost:8080/"
        },
        "outputId": "bc1622c2-91d0-4b7c-8e9b-df05a5c71c20"
      },
      "outputs": [
        {
          "output_type": "stream",
          "name": "stdout",
          "text": [
            "['o', 'g', 'a', 'c', 'i', 'h', 'C']\n"
          ]
        },
        {
          "output_type": "execute_result",
          "data": {
            "text/plain": [
              "['o', 'g', 'a', 'c', 'i', 'h', 'C']"
            ]
          },
          "metadata": {},
          "execution_count": 35
        }
      ],
      "source": [
        "# DONE\n",
        "inputs = [\n",
        "    ('Chicago',),\n",
        "    ('Medellín',),\n",
        "    ('Cártago',)\n",
        "]\n",
        "\n",
        "def function(palabra):\n",
        "    \"\"\"Escriba su codigo aqui ...\"\"\"\n",
        "    lista_invertida = list(reversed(palabra))\n",
        "    print(lista_invertida)\n",
        "    return lista_invertida\n",
        "\n",
        "function('Chicago')"
      ]
    },
    {
      "cell_type": "markdown",
      "metadata": {
        "id": "nQTvN1We45c8"
      },
      "source": [
        "<p><img src=\"https://cdn.icon-icons.com/icons2/1130/PNG/512/numberoneinacircle_80030.png\" alt=\"14\" width=\"65\" height=\"65\" />\n",
        "   <img src=\"https://cdn.icon-icons.com/icons2/1130/PNG/512/numberfourincircularbutton_80047.png\" alt=\"14\" width=\"65\" height=\"65\" /></p>\n",
        "\n",
        "\n",
        "* **ID:** PYLVL2DBUC-14\n",
        "* **DESCRIPCIÓN:** Ciclos for/while\n",
        "\n",
        "    Escribir dentro del cuerpo de la función ``function`` la lógica para que dado un número entero que constituye la altura de un triángulo, imprima por pantalla un triángulo rectángulo como el del ejemplo.\n",
        "\n",
        "    Ejemplo:<br/>\n",
        "    Si la altura fuera 9 el triangulo resultante seria el siguiente:\n",
        "    ```\n",
        "      1\n",
        "      3 1\n",
        "      5 3 1\n",
        "      7 5 3 1\n",
        "      9 7 5 3 1\n",
        "    ```\n",
        "\n",
        "    **Nota**: El número que define la altura del triángulo será dado como parámetro `num` de la funcion. Retornar la suma de los numeros que le tomó realizar el árbol.\n",
        "\n",
        "\n",
        "\\\n",
        "**Reglas:**\n",
        "1. No modifique la declaración ni la invocación de la función. El concepto detrás de las funciones se verá más adelante.\n",
        "2. Si no sigue alguna de estas reglas, el ejercicio será marcado como erróneo.\n",
        "\n",
        "\\\n",
        "**Respuesta Esperada:**\n",
        "\n",
        "```python\n",
        "# Retornar la suma de los numeros que le tomó realizar el árbol.\n",
        "\n",
        "return suma\n",
        "```\n"
      ]
    },
    {
      "cell_type": "code",
      "execution_count": 65,
      "metadata": {
        "id": "gWZTPCeVk6vl",
        "colab": {
          "base_uri": "https://localhost:8080/"
        },
        "outputId": "8f05c720-0aad-4cca-c52e-5a8a24bcc157"
      },
      "outputs": [
        {
          "output_type": "stream",
          "name": "stdout",
          "text": [
            "1\n",
            "3 1\n",
            "5 3 1\n",
            "7 5 3 1\n",
            "9 7 5 3 1\n",
            "11 9 7 5 3 1\n",
            "13 11 9 7 5 3 1\n"
          ]
        },
        {
          "output_type": "execute_result",
          "data": {
            "text/plain": [
              "140"
            ]
          },
          "metadata": {},
          "execution_count": 65
        }
      ],
      "source": [
        "# DONE\n",
        "def function(num):\n",
        "    \"\"\"Escriba su codigo aqui ...\"\"\"\n",
        "    suma = 0\n",
        "\n",
        "    for i in range(1, num +1, 2):\n",
        "      fila = ''\n",
        "      for j in range(i, 0, -2):\n",
        "        fila += str(j) + ' '\n",
        "        suma += j\n",
        "      print(fila.rstrip())\n",
        "\n",
        "    return suma\n",
        "\n",
        "function(13)"
      ]
    },
    {
      "cell_type": "markdown",
      "metadata": {
        "id": "r1igcIIbvJ85"
      },
      "source": [
        "<p>\n",
        "   <img src=\"https://cdn.icon-icons.com/icons2/1130/PNG/512/numberoneinacircle_80030.png\" alt=\"15\" width=\"65\" height=\"65\" />\n",
        "   <img src=\"https://cdn.icon-icons.com/icons2/1130/PNG/512/numberfiveincircularbutton_80245.png\" alt=\"15\" width=\"65\" height=\"65\" />\n",
        "</p>\n",
        "\n",
        "\n",
        "* **ID:** PYLVL2DBUC-15\n",
        "* **DESCRIPCIÓN:** Ciclos for/while\n",
        "\n",
        "   Escribir dentro del cuerpo de la función ``function`` la lógica que dibuje un árbol de navidad formado con * haciendo uso de un ciclo while. Este árbol tendrá como ancho de copa un número x, y una altura z los cuales serán dados como parámetros de la función. Usted deberá imprimir el árbol y adicionalmente deberá retornar el número de asteriscos usados para construir la base del árbol.\n",
        "\n",
        "   Ejemplo de árbol:<br/>\n",
        "   Altura: 7 <br/>\n",
        "   Grosor de la copa: 1 <br/>\n",
        "   ```\n",
        "            *     \n",
        "           ***    \n",
        "          *****   \n",
        "         *******  \n",
        "        *********\n",
        "       ***********\n",
        "   ```\n",
        "\n",
        "    **Nota**: El número que define la altura del triángulo será dado como parámetro `x` de la función al igual que el número dado como grosor de la copa del árbol, parametro `z`. Retornar el conteo de los asteriscos que le tomó realizar la base del árbol.\n",
        "\n",
        "\n",
        "\\\n",
        "**Reglas:**\n",
        "1. No modifique la declaración ni la invocación de la función. El concepto detrás de las funciones se verá más adelante.\n",
        "2. Si no sigue alguna de estas reglas, el ejercicio será marcado como erróneo.\n",
        "\n",
        "\\\n",
        "**Respuesta Esperada:**\n",
        "\n",
        "```python\n",
        "# Retornar el conteo de los asteriscos que le tomó realizar la base del árbol.\n",
        "\n",
        "return conteo\n",
        "```\n"
      ]
    },
    {
      "cell_type": "code",
      "execution_count": 62,
      "metadata": {
        "id": "EUCotx31wX9x",
        "colab": {
          "base_uri": "https://localhost:8080/"
        },
        "outputId": "f96ae466-a86c-4564-b7a6-7f30d0329eee"
      },
      "outputs": [
        {
          "output_type": "stream",
          "name": "stdout",
          "text": [
            "*\n",
            "***\n",
            "*****\n",
            "*******\n",
            "*********\n",
            "***********\n",
            "*************\n"
          ]
        },
        {
          "output_type": "execute_result",
          "data": {
            "text/plain": [
              "13"
            ]
          },
          "metadata": {},
          "execution_count": 62
        }
      ],
      "source": [
        "# DONE\n",
        "def function(x, z):\n",
        "    \"\"\"Escriba su codigo aqui...\"\"\"\n",
        "\n",
        "    asteriscos_base = 0\n",
        "    conteo = 2 * z -1\n",
        "\n",
        "    # Dibujar la copa del árbol\n",
        "    espacio = x - 1\n",
        "    for i in range(1, z + 1):\n",
        "        copa = ' ' * espacio + '*' * (2 * i - 1)\n",
        "        asteriscos_base += 2 * i - 1  # Contar asteriscos de la copa\n",
        "        print(copa)\n",
        "        espacio -= 1\n",
        "\n",
        "    # Dibujar el tronco del árbol\n",
        "    for _ in range(z):\n",
        "        tronco = ' ' * (x- 1) + '*'\n",
        "        asteriscos_base += 1  # Contar asterisco del tronco\n",
        "\n",
        "\n",
        "    return conteo\n",
        "\n",
        "function(1,7)"
      ]
    },
    {
      "cell_type": "markdown",
      "metadata": {
        "id": "C0-7Yb98n8G-"
      },
      "source": [
        "<p>\n",
        "    <img src=\"https://cdn.icon-icons.com/icons2/1130/PNG/512/numberoneinacircle_80030.png\" alt=\"16\" width=\"65\" height=\"65\" />\n",
        "    <img src=\"https://cdn.icon-icons.com/icons2/1130/PNG/512/numbersixinacircle_80203.png\" alt=\"16\" width=\"65\" height=\"65\" />\n",
        "</p>\n",
        "\n",
        "\n",
        "* **ID:** PYLVL2DBUC-16\n",
        "* **DESCRIPCIÓN:** Ciclos for/while\n",
        "\n",
        "  Escribir dentro del cuerpo de la función ``function`` la lógica en la cual dado un array de números enteros, permita retornar la cantidad de números que coincidan con el parámetro `n` que se encuentran en el array.\n",
        "\n",
        "   **Nota**: El array de números será dado como parámetro de la función al igual que el número que usted debe buscar. Retornar el conteo de números n dentro del array proporcionado, sin utilizar la función `.count()`.\n",
        "\n",
        "\\\n",
        "**Reglas:**\n",
        "1. No modifique la declaración ni la invocación de la función. El concepto detrás de las funciones se verá más adelante.\n",
        "2. Si no sigue alguna de estas reglas, el ejercicio será marcado como erróneo.\n",
        "\n",
        "\\\n",
        "**Respuesta Esperada:**\n",
        "\n",
        "```python\n",
        "# Retornar el conteo de números n dentro del array proporcionado, sin utilizar la función `.count()`.\n",
        "\n",
        "return conteo\n",
        "```\n"
      ]
    },
    {
      "cell_type": "code",
      "execution_count": 54,
      "metadata": {
        "id": "p2b4iYyIp3mu",
        "colab": {
          "base_uri": "https://localhost:8080/"
        },
        "outputId": "98617167-eaa9-4a49-b79e-23e1a6f14afb"
      },
      "outputs": [
        {
          "output_type": "execute_result",
          "data": {
            "text/plain": [
              "3"
            ]
          },
          "metadata": {},
          "execution_count": 54
        }
      ],
      "source": [
        "# DONE\n",
        "def function(lista, n):\n",
        "    \"\"\"Escriba su codigo aqui...\"\"\"\n",
        "\n",
        "    repeticiones = []\n",
        "\n",
        "    for numero in lista:\n",
        "      if numero == n:\n",
        "       repeticiones.append(numero)\n",
        "\n",
        "    conteo = len(repeticiones)\n",
        "\n",
        "    return conteo\n",
        "\n",
        "\n",
        "function([1, 9, 9, 3, 9], 9)"
      ]
    },
    {
      "cell_type": "markdown",
      "metadata": {
        "id": "KpkZ3HTOPayf"
      },
      "source": [
        "<p>\n",
        "    <img src=\"https://cdn.icon-icons.com/icons2/1130/PNG/512/numberoneinacircle_80030.png\" alt=\"17\" width=\"65\" height=\"65\" />\n",
        "    <img src=\"https://cdn.icon-icons.com/icons2/1130/PNG/512/numberseveninacircle_80279.png\" alt=\"17\" width=\"65\" height=\"65\" />\n",
        "</p>\n",
        "\n",
        "\n",
        "* **ID:** PYLVL2DBUC-17\n",
        "* **DESCRIPCIÓN:** Ciclos for\n",
        "\n",
        "    Escribir dentro del cuerpo de la función ``function`` la lógica para que dada una lista de palabras, y una letra ingresada como parámetro, se evalúe si la letra ingresada está incluida en las palabras. Retornar una lista con los resultados obtenidos.\n",
        "\n",
        "    **Nota**: La lista de palabras a evaluar y la letra serán dadas como parámetros `lista` y `letra` de la función. Usted debe retornar e imprimir una lista con los resultados obtenidos.\n",
        "\n",
        "\\\n",
        "**Reglas:**\n",
        "1. No modifique la declaración ni la invocación de la función. El concepto detrás de las funciones se verá más adelante.\n",
        "2. Si no sigue alguna de estas reglas, el ejercicio será marcado como erróneo.\n",
        "\n",
        "\\\n",
        "**Respuesta Esperada:**\n",
        "```python\n",
        "# Retornar una lista con los resultados obtenidos.\n",
        "\n",
        "return resultado\n",
        "```"
      ]
    },
    {
      "cell_type": "code",
      "execution_count": 42,
      "metadata": {
        "id": "GlQpH2i2Payf",
        "colab": {
          "base_uri": "https://localhost:8080/"
        },
        "outputId": "f7374630-1117-41c0-da62-74c712beb7ac"
      },
      "outputs": [
        {
          "output_type": "stream",
          "name": "stdout",
          "text": [
            "[True, False, False]\n"
          ]
        },
        {
          "output_type": "execute_result",
          "data": {
            "text/plain": [
              "[True, False, False]"
            ]
          },
          "metadata": {},
          "execution_count": 42
        }
      ],
      "source": [
        "# DONE\n",
        "def function(lista, letra):\n",
        "    \"\"\"Escriba su codigo aqui...\"\"\"\n",
        "\n",
        "    resultado = []\n",
        "\n",
        "    for palabra in lista:\n",
        "      if letra in palabra:\n",
        "        resultado.append(True)\n",
        "      else:\n",
        "        resultado.append(False)\n",
        "\n",
        "    print(resultado)\n",
        "\n",
        "    return resultado\n",
        "\n",
        "\n",
        "function(['Chicago', 'Medellín', 'Cártago'],'c')"
      ]
    }
  ],
  "metadata": {
    "colab": {
      "provenance": []
    },
    "kernelspec": {
      "display_name": "Python 3",
      "name": "python3"
    },
    "language_info": {
      "codemirror_mode": {
        "name": "ipython",
        "version": 3
      },
      "file_extension": ".py",
      "mimetype": "text/x-python",
      "name": "python",
      "nbconvert_exporter": "python",
      "pygments_lexer": "ipython3",
      "version": "3.11.3"
    }
  },
  "nbformat": 4,
  "nbformat_minor": 0
}